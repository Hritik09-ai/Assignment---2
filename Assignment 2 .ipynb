{
 "cells": [
  {
   "cell_type": "code",
   "execution_count": null,
   "id": "3ba78149-62d6-4b54-be94-391deb151ef9",
   "metadata": {},
   "outputs": [],
   "source": [
    "\n",
    "# QUESTION.1 How do we comment code in python? what are the different types of comments?\n",
    "\n",
    "# ANSWERS In python, you can use the '#' symbol to creat single-line comments. anything after the'#' symbol on the same line\n",
    "# will be consider a comment and will be ignored by the python interpeter.\n",
    "# For multiline commments, you can use triple quotes('''or''') at the beginning and end of the block of text you want to \n",
    "# comment out. We use comments in our code to explain complex logic, provide contex, or make it easier for other and\n",
    "# yourself to understand your code in future.\n"
   ]
  },
  {
   "cell_type": "code",
   "execution_count": null,
   "id": "17d30c20-30f4-4462-b5f4-0399667f738b",
   "metadata": {},
   "outputs": [],
   "source": []
  },
  {
   "cell_type": "code",
   "execution_count": null,
   "id": "d395fb38-db54-46ca-a75a-50715254604b",
   "metadata": {},
   "outputs": [],
   "source": [
    "# QUESTION.2 What are variable in Python? How do you declare and assign value to variable?\n",
    "\n",
    "# ANSWERS In, Python, variables are used to store and represent data. They acts as containers that hold value, which can be\n",
    "# of different data types such as numbers, string, or list. To declare and assign a value to a variable name on the left-hand\n",
    "# side of an equal sigh(=), followed by the value you want to store on the right-hand side.\n",
    "a = 100"
   ]
  },
  {
   "cell_type": "code",
   "execution_count": null,
   "id": "86e25a1b-0c70-49b5-b3b6-d70d5a4b7675",
   "metadata": {},
   "outputs": [],
   "source": [
    "a"
   ]
  },
  {
   "cell_type": "code",
   "execution_count": null,
   "id": "fe09b33d-12f4-4847-ae7d-31665150c76c",
   "metadata": {},
   "outputs": [],
   "source": []
  },
  {
   "cell_type": "code",
   "execution_count": null,
   "id": "7917e174-0fe2-4840-8d9e-e9b502f6d090",
   "metadata": {},
   "outputs": [],
   "source": [
    "#QUESTION.2 How do you convert one data type to another in Python?\n",
    "#ANSWER In Python, you can convert one data type to another using various built-in function \n",
    "# For Example :\n",
    "# Integer to String : Use the 'str()' function, for example : \n",
    "A = 10 "
   ]
  },
  {
   "cell_type": "code",
   "execution_count": null,
   "id": "0d9cf70b-f6c7-4275-8b35-2603e49f3d4c",
   "metadata": {},
   "outputs": [],
   "source": [
    "type(A)"
   ]
  },
  {
   "cell_type": "code",
   "execution_count": null,
   "id": "86c0ac56-3246-4fba-8266-decc3ff97d91",
   "metadata": {},
   "outputs": [],
   "source": [
    "str(A)"
   ]
  },
  {
   "cell_type": "code",
   "execution_count": null,
   "id": "00ec5477-8ef6-4c0b-becd-48c596afea1e",
   "metadata": {},
   "outputs": [],
   "source": [
    "# List to Tuple : Use the 'tuple()' function , for example : \n",
    "L = [1,2,3,4]"
   ]
  },
  {
   "cell_type": "code",
   "execution_count": null,
   "id": "087b75c3-4fc2-4de1-a0af-9226331c8c56",
   "metadata": {},
   "outputs": [],
   "source": [
    "type(L)"
   ]
  },
  {
   "cell_type": "code",
   "execution_count": null,
   "id": "696f61a9-c774-4cf5-b30d-1cd4a535c33d",
   "metadata": {},
   "outputs": [],
   "source": [
    "tuple(L)"
   ]
  },
  {
   "cell_type": "code",
   "execution_count": null,
   "id": "1e01cf3d-6544-47bc-83cb-2142c6e24d52",
   "metadata": {},
   "outputs": [],
   "source": [
    "# String to List : Use the 'split()' methord, for example : \n",
    "Q = \"hritik singh\""
   ]
  },
  {
   "cell_type": "code",
   "execution_count": null,
   "id": "e76f6d8e-45a6-4f6d-9376-3697cb4e6677",
   "metadata": {},
   "outputs": [],
   "source": [
    "type(Q)"
   ]
  },
  {
   "cell_type": "code",
   "execution_count": null,
   "id": "1c4cf489-e015-4262-8aa0-f3410e63f5c0",
   "metadata": {},
   "outputs": [],
   "source": [
    "Q1 = Q.split()"
   ]
  },
  {
   "cell_type": "code",
   "execution_count": null,
   "id": "59d72512-4ae6-495c-a504-dd2f5d560d55",
   "metadata": {},
   "outputs": [],
   "source": [
    "Q1"
   ]
  },
  {
   "cell_type": "code",
   "execution_count": null,
   "id": "7c603c24-7829-4528-a872-15ebdc015c9a",
   "metadata": {},
   "outputs": [],
   "source": []
  },
  {
   "cell_type": "code",
   "execution_count": null,
   "id": "407c356c-115b-475d-8b97-c15c4dd3ab07",
   "metadata": {},
   "outputs": [],
   "source": [
    "# QUESTION.4 How do you write and execute a Python script from the command line?\n",
    "# ANSWER To write and execute a Python script from the command line open a text editor and creat your Python script. Save it \n",
    "# with a '.py' extension. open the command line or terminal on your computer.Navigate to the directory where your Python\n",
    "# script is located using the 'cd' command. To execute the script, type 'python' followed by the name of your Python script \n",
    "# and press Enter. \n",
    "# Your Python script will then be executed, and you'll see the output in the command line if there's any.\n"
   ]
  },
  {
   "cell_type": "code",
   "execution_count": null,
   "id": "1bb6486e-41c0-41e8-bc96-526136107e57",
   "metadata": {},
   "outputs": [],
   "source": []
  },
  {
   "cell_type": "code",
   "execution_count": null,
   "id": "4dc27cc5-428c-4002-bd25-c67cee4ef1e2",
   "metadata": {},
   "outputs": [],
   "source": [
    "# OUESTION.5 Given a list my_list = [1,2,3,4,5], write the code to slice the list and obtain the sub-list[2,3].\n",
    "# ANSWER "
   ]
  },
  {
   "cell_type": "code",
   "execution_count": 17,
   "id": "197aefe3-8ac5-47b4-868f-d9085960bf2d",
   "metadata": {},
   "outputs": [],
   "source": [
    "my_list = [1,2,3,4,5]"
   ]
  },
  {
   "cell_type": "code",
   "execution_count": 18,
   "id": "73cac0f4-9cb8-4c93-b093-7839457f9da5",
   "metadata": {},
   "outputs": [],
   "source": [
    "sub_list = my_list[1:3]"
   ]
  },
  {
   "cell_type": "code",
   "execution_count": 19,
   "id": "42264eb6-afbe-47e7-8b90-b17e644f5d03",
   "metadata": {},
   "outputs": [
    {
     "data": {
      "text/plain": [
       "[2, 3]"
      ]
     },
     "execution_count": 19,
     "metadata": {},
     "output_type": "execute_result"
    }
   ],
   "source": [
    "sub_list"
   ]
  },
  {
   "cell_type": "code",
   "execution_count": null,
   "id": "c50e4773-3f34-4a36-89bf-972786976abe",
   "metadata": {},
   "outputs": [],
   "source": []
  },
  {
   "cell_type": "code",
   "execution_count": 20,
   "id": "f6cdb95d-8d43-4d61-8e1a-310c39f29b89",
   "metadata": {},
   "outputs": [],
   "source": [
    "# QUESTION.6 What is a complex number in mathematics, and how is it represented in Python?\n",
    "\n",
    "# ANSWER In mathematics, a complex number is a number that can be expressed in the form \"x + yi\",where x are real number and \n",
    "# Yi are imaginary number.\n",
    "# In python, complex number are represented using the 'complex' data  type and directly writing it as \"x + yj\" \n",
    "# \"j\" is used to represent the imaginary unit in python, insted of 'i'.\n"
   ]
  },
  {
   "cell_type": "code",
   "execution_count": null,
   "id": "94769606-a757-49ea-b7ee-cc2bf01e2b7d",
   "metadata": {},
   "outputs": [],
   "source": []
  },
  {
   "cell_type": "code",
   "execution_count": null,
   "id": "72495b85-60df-4ede-9529-249b256589f3",
   "metadata": {},
   "outputs": [],
   "source": [
    "# QUESTION.7 What is the correct way to declared a variable named age and assign the value 25 to it?\n",
    "# ANSWER \n",
    "  age = 25"
   ]
  },
  {
   "cell_type": "code",
   "execution_count": null,
   "id": "4161b6e0-6c99-4f5a-b365-5838219ee7fa",
   "metadata": {},
   "outputs": [],
   "source": []
  },
  {
   "cell_type": "code",
   "execution_count": 21,
   "id": "62b60d48-5adf-44dd-acf8-0c74f2a194fc",
   "metadata": {},
   "outputs": [],
   "source": [
    "# QUESTION.8 Declare a variable named price and assign the value 9.99 to it. what data type does this variable belong to?\n",
    "# ANSWER \n",
    "price = 9.99"
   ]
  },
  {
   "cell_type": "code",
   "execution_count": 22,
   "id": "f0be25b2-ddf7-4f3a-8fac-88847c6cab67",
   "metadata": {},
   "outputs": [
    {
     "data": {
      "text/plain": [
       "float"
      ]
     },
     "execution_count": 22,
     "metadata": {},
     "output_type": "execute_result"
    }
   ],
   "source": [
    "type(price)"
   ]
  },
  {
   "cell_type": "code",
   "execution_count": null,
   "id": "01519600-f726-4863-98f6-6633363fca4a",
   "metadata": {},
   "outputs": [],
   "source": [
    "# price variable to float data type."
   ]
  },
  {
   "cell_type": "code",
   "execution_count": null,
   "id": "b7426570-acde-47ff-b951-0e7d90d66d7e",
   "metadata": {},
   "outputs": [],
   "source": []
  },
  {
   "cell_type": "code",
   "execution_count": 24,
   "id": "231aaa57-7c2a-4f05-adcd-3a8b6974bb42",
   "metadata": {},
   "outputs": [],
   "source": [
    "# QUESTION.9 Create a variable named name and assign your full name to it as a string. How would you print the value of \n",
    "# this variable?\n",
    "# ANSWER \n",
    "name = 'Hritik Singh Ghalot'"
   ]
  },
  {
   "cell_type": "code",
   "execution_count": 25,
   "id": "90f971b1-fa11-4655-a7d8-6085f15a77c7",
   "metadata": {},
   "outputs": [
    {
     "name": "stdout",
     "output_type": "stream",
     "text": [
      "Hritik Singh Ghalot\n"
     ]
    }
   ],
   "source": [
    "print(name)   ### Using print function "
   ]
  },
  {
   "cell_type": "code",
   "execution_count": null,
   "id": "10bcfbf9-8300-46f5-998d-a43e95deb06f",
   "metadata": {},
   "outputs": [],
   "source": []
  },
  {
   "cell_type": "code",
   "execution_count": 31,
   "id": "56d34411-6248-456c-8f3e-f15767eee4c3",
   "metadata": {},
   "outputs": [],
   "source": [
    "# QUESTION.10 Given the string \"hello, word!\", extract the substring \"world\". \n",
    "# ANSWER \n",
    "A = \"hello, world!\"\n",
    "substring_A = A[7:12]"
   ]
  },
  {
   "cell_type": "code",
   "execution_count": 32,
   "id": "81ec84a3-213b-477f-ac30-dde007b569a9",
   "metadata": {},
   "outputs": [
    {
     "data": {
      "text/plain": [
       "'world'"
      ]
     },
     "execution_count": 32,
     "metadata": {},
     "output_type": "execute_result"
    }
   ],
   "source": [
    "substring_A"
   ]
  },
  {
   "cell_type": "code",
   "execution_count": null,
   "id": "570169e1-d094-4817-8c77-3b078ece1c70",
   "metadata": {},
   "outputs": [],
   "source": []
  },
  {
   "cell_type": "code",
   "execution_count": 33,
   "id": "75f834c6-95ab-448d-999a-b4f2c998ffaa",
   "metadata": {},
   "outputs": [],
   "source": [
    "# QUESTION.11 Create a variable named \"is_student\" and assign it a boolean value indicating whether you are currently a \n",
    "# student or not.\n",
    "# ANSWER \n",
    "is_student = True "
   ]
  },
  {
   "cell_type": "code",
   "execution_count": null,
   "id": "30584007-26c7-4415-8d7c-1a1c1c7232f1",
   "metadata": {},
   "outputs": [],
   "source": []
  }
 ],
 "metadata": {
  "kernelspec": {
   "display_name": "Python 3 (ipykernel)",
   "language": "python",
   "name": "python3"
  },
  "language_info": {
   "codemirror_mode": {
    "name": "ipython",
    "version": 3
   },
   "file_extension": ".py",
   "mimetype": "text/x-python",
   "name": "python",
   "nbconvert_exporter": "python",
   "pygments_lexer": "ipython3",
   "version": "3.10.8"
  }
 },
 "nbformat": 4,
 "nbformat_minor": 5
}
